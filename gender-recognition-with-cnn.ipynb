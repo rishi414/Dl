{
 "cells": [
  {
   "cell_type": "code",
   "execution_count": 1,
   "id": "a49db008",
   "metadata": {
    "execution": {
     "iopub.execute_input": "2025-02-08T12:28:21.250706Z",
     "iopub.status.busy": "2025-02-08T12:28:21.250194Z",
     "iopub.status.idle": "2025-02-08T12:28:27.125617Z",
     "shell.execute_reply": "2025-02-08T12:28:27.124292Z"
    },
    "papermill": {
     "duration": 5.883279,
     "end_time": "2025-02-08T12:28:27.128602",
     "exception": false,
     "start_time": "2025-02-08T12:28:21.245323",
     "status": "completed"
    },
    "tags": []
   },
   "outputs": [],
   "source": [
    "import torch\n",
    "import torch.nn as nn\n",
    "import torch.nn.functional as F\n",
    "import numpy as np\n",
    "import torch.optim as optim\n",
    "from torch.utils.data import Dataset, DataLoader\n",
    "from PIL import Image\n",
    "import os\n",
    "from torchvision import transforms\n",
    "\n",
    "class SimpleImageDataset(Dataset):\n",
    "    def __init__(self,main_folder_path, transform=None):\n",
    "        self.main_folder_path = main_folder_path\n",
    "        self.transform = transform\n",
    "        self.x,self.y = self.file_reader()\n",
    "        \n",
    "        print(self.y)\n",
    "\n",
    "    def __len__(self):\n",
    "        return len(self.x)\n",
    "\n",
    "    def __getitem__(self, idx):\n",
    "        image = Image.open(self.x[idx])\n",
    "        if self.transform:\n",
    "            image = self.transform(image)\n",
    "        label = self.y[idx]\n",
    "        return image, label\n",
    "\n",
    "\n",
    "    def data_label(self,folder_name):\n",
    "        match folder_name:\n",
    "            case \"man\":\n",
    "                 return 0\n",
    "            case \"woman\":\n",
    "                return 1\n",
    "            case _:\n",
    "                return None\n",
    "\n",
    "    def file_reader(self):\n",
    "        x = []  \n",
    "        y = [] \n",
    "\n",
    "       \n",
    "        for folder_name in os.listdir(self.main_folder_path):        \n",
    "            folder_path = os.path.join(self.main_folder_path, folder_name)\n",
    "            if os.path.isdir(folder_path):\n",
    "                label = self.data_label(folder_name)\n",
    "                if label is None:\n",
    "                    continue\n",
    "                c=0\n",
    "                for sub_folder_name in os.listdir(folder_path):\n",
    "                    final_image=os.path.join(folder_path,sub_folder_name) \n",
    "                    if c==20:\n",
    "                        break\n",
    "\n",
    "                    print(final_image)\n",
    "                    x.append(final_image) \n",
    "                    c=c+1\n",
    "                    y.append(label)\n",
    "        return x,torch.tensor(y)\n",
    "                        \n",
    "\n",
    "    \n",
    "\n",
    "class ConNN(nn.Module):\n",
    "    def __init__(self, input_size, hidden_size, output_size):\n",
    "        super(ConNN, self).__init__()\n",
    "        self.conv1=nn.Conv2d(3,16,2)\n",
    "        self.pool=nn.MaxPool2d(2,2)\n",
    "        self.conv2=nn.Conv2d(16,32,2)\n",
    "        self.fc1 = nn.Linear(input_size, hidden_size)\n",
    "        self.fc2 = nn.Linear(hidden_size, hidden_size)\n",
    "        self.fc3 = nn.Linear(hidden_size, output_size)\n",
    "        self.relu = nn.ReLU()\n",
    "        self.softmax = nn.Softmax(dim=1)\n",
    "\n",
    "    def forward(self, x):\n",
    "        x = self.pool(F.relu(self.conv1(x)))\n",
    "        x = self.pool(F.relu(self.conv2(x)))\n",
    "        x = torch.flatten(x, 1) \n",
    "        x = self.relu(self.fc1(x))\n",
    "        x = self.fc2(x)\n",
    "        x = self.fc3(x)\n",
    "        return x\n",
    "\n",
    "\n",
    "\n",
    "transform = transforms.Compose([\n",
    "    transforms.Grayscale(num_output_channels=3),\n",
    "    transforms.Resize((8,8)), \n",
    "    transforms.ToTensor(),        \n",
    "    \n",
    "    \n",
    "])"
   ]
  },
  {
   "cell_type": "code",
   "execution_count": 2,
   "id": "6a439aed",
   "metadata": {
    "execution": {
     "iopub.execute_input": "2025-02-08T12:28:27.136095Z",
     "iopub.status.busy": "2025-02-08T12:28:27.135560Z",
     "iopub.status.idle": "2025-02-08T12:28:27.380704Z",
     "shell.execute_reply": "2025-02-08T12:28:27.379506Z"
    },
    "papermill": {
     "duration": 0.251696,
     "end_time": "2025-02-08T12:28:27.383357",
     "exception": false,
     "start_time": "2025-02-08T12:28:27.131661",
     "status": "completed"
    },
    "tags": []
   },
   "outputs": [
    {
     "name": "stdout",
     "output_type": "stream",
     "text": [
      "/kaggle/input/biggest-genderface-recognition-dataset/faces/man/man_4160.jpg\n",
      "/kaggle/input/biggest-genderface-recognition-dataset/faces/man/man_16738.jpg\n",
      "/kaggle/input/biggest-genderface-recognition-dataset/faces/man/man_4001.jpg\n",
      "/kaggle/input/biggest-genderface-recognition-dataset/faces/man/man_4435.jpg\n",
      "/kaggle/input/biggest-genderface-recognition-dataset/faces/man/man_12722.jpg\n",
      "/kaggle/input/biggest-genderface-recognition-dataset/faces/man/man_16251.jpg\n",
      "/kaggle/input/biggest-genderface-recognition-dataset/faces/man/man_17245.jpg\n",
      "/kaggle/input/biggest-genderface-recognition-dataset/faces/man/man_10765.jpg\n",
      "/kaggle/input/biggest-genderface-recognition-dataset/faces/man/man_4530.jpg\n",
      "/kaggle/input/biggest-genderface-recognition-dataset/faces/man/man_5505.jpg\n",
      "/kaggle/input/biggest-genderface-recognition-dataset/faces/man/man_4973.jpg\n",
      "/kaggle/input/biggest-genderface-recognition-dataset/faces/man/man_4834.jpg\n",
      "/kaggle/input/biggest-genderface-recognition-dataset/faces/man/man_2513.jpg\n",
      "/kaggle/input/biggest-genderface-recognition-dataset/faces/man/man_5427.jpg\n",
      "/kaggle/input/biggest-genderface-recognition-dataset/faces/man/man_17023.jpg\n",
      "/kaggle/input/biggest-genderface-recognition-dataset/faces/man/man_16655.jpg\n",
      "/kaggle/input/biggest-genderface-recognition-dataset/faces/man/man_15451.jpg\n",
      "/kaggle/input/biggest-genderface-recognition-dataset/faces/man/man_7077.jpg\n",
      "/kaggle/input/biggest-genderface-recognition-dataset/faces/man/man_9818.jpg\n",
      "/kaggle/input/biggest-genderface-recognition-dataset/faces/man/man_15537.jpg\n",
      "/kaggle/input/biggest-genderface-recognition-dataset/faces/woman/woman_5940.jpg\n",
      "/kaggle/input/biggest-genderface-recognition-dataset/faces/woman/woman_7026.jpg\n",
      "/kaggle/input/biggest-genderface-recognition-dataset/faces/woman/woman_8050.jpg\n",
      "/kaggle/input/biggest-genderface-recognition-dataset/faces/woman/woman_7541.jpg\n",
      "/kaggle/input/biggest-genderface-recognition-dataset/faces/woman/woman_8520.jpg\n",
      "/kaggle/input/biggest-genderface-recognition-dataset/faces/woman/woman_3587.jpg\n",
      "/kaggle/input/biggest-genderface-recognition-dataset/faces/woman/woman_2814.jpg\n",
      "/kaggle/input/biggest-genderface-recognition-dataset/faces/woman/woman_6684.jpg\n",
      "/kaggle/input/biggest-genderface-recognition-dataset/faces/woman/woman_8551.jpg\n",
      "/kaggle/input/biggest-genderface-recognition-dataset/faces/woman/woman_5766.jpg\n",
      "/kaggle/input/biggest-genderface-recognition-dataset/faces/woman/woman_8867.jpg\n",
      "/kaggle/input/biggest-genderface-recognition-dataset/faces/woman/woman_8624.jpg\n",
      "/kaggle/input/biggest-genderface-recognition-dataset/faces/woman/woman_7642.jpg\n",
      "/kaggle/input/biggest-genderface-recognition-dataset/faces/woman/woman_3702.jpg\n",
      "/kaggle/input/biggest-genderface-recognition-dataset/faces/woman/woman_9424.jpg\n",
      "/kaggle/input/biggest-genderface-recognition-dataset/faces/woman/woman_3334.jpg\n",
      "/kaggle/input/biggest-genderface-recognition-dataset/faces/woman/woman_884.jpg\n",
      "/kaggle/input/biggest-genderface-recognition-dataset/faces/woman/woman_6505.jpg\n",
      "/kaggle/input/biggest-genderface-recognition-dataset/faces/woman/woman_9249.jpg\n",
      "/kaggle/input/biggest-genderface-recognition-dataset/faces/woman/woman_6033.jpg\n",
      "tensor([0, 0, 0, 0, 0, 0, 0, 0, 0, 0, 0, 0, 0, 0, 0, 0, 0, 0, 0, 0, 1, 1, 1, 1,\n",
      "        1, 1, 1, 1, 1, 1, 1, 1, 1, 1, 1, 1, 1, 1, 1, 1])\n"
     ]
    }
   ],
   "source": [
    "main_folder_path ='/kaggle/input/biggest-genderface-recognition-dataset/faces'\n",
    "dataset = SimpleImageDataset(main_folder_path, transform=transform)\n",
    "train_loader = DataLoader(dataset, batch_size=2, shuffle=True)\n",
    "input_size = 32*1*1\n",
    "hidden_size = 2*input_size\n",
    "output_size = 2\n",
    "model = ConNN(input_size, hidden_size, output_size)"
   ]
  },
  {
   "cell_type": "code",
   "execution_count": 3,
   "id": "7f0dcf94",
   "metadata": {
    "execution": {
     "iopub.execute_input": "2025-02-08T12:28:27.391158Z",
     "iopub.status.busy": "2025-02-08T12:28:27.390331Z",
     "iopub.status.idle": "2025-02-08T12:28:27.486319Z",
     "shell.execute_reply": "2025-02-08T12:28:27.485069Z"
    },
    "papermill": {
     "duration": 0.10235,
     "end_time": "2025-02-08T12:28:27.488666",
     "exception": false,
     "start_time": "2025-02-08T12:28:27.386316",
     "status": "completed"
    },
    "tags": []
   },
   "outputs": [
    {
     "data": {
      "text/plain": [
       "(tensor([[[0.4392, 0.4353, 0.5647, 0.4588, 0.2471, 0.2745, 0.2902, 0.4667],\n",
       "          [0.4431, 0.4314, 0.3647, 0.2588, 0.2000, 0.3216, 0.4314, 0.5176],\n",
       "          [0.4510, 0.3843, 0.2824, 0.4078, 0.3373, 0.2784, 0.6196, 0.5843],\n",
       "          [0.4627, 0.4078, 0.3059, 0.3294, 0.3255, 0.4078, 0.6510, 0.5882],\n",
       "          [0.4667, 0.4431, 0.3922, 0.3216, 0.3490, 0.4471, 0.6431, 0.5843],\n",
       "          [0.4745, 0.4588, 0.3137, 0.1961, 0.1647, 0.2078, 0.4549, 0.4941],\n",
       "          [0.4549, 0.3176, 0.2627, 0.2196, 0.1922, 0.0471, 0.0588, 0.1020],\n",
       "          [0.3608, 0.0863, 0.1725, 0.2667, 0.0784, 0.0353, 0.0392, 0.0431]],\n",
       " \n",
       "         [[0.4392, 0.4353, 0.5647, 0.4588, 0.2471, 0.2745, 0.2902, 0.4667],\n",
       "          [0.4431, 0.4314, 0.3647, 0.2588, 0.2000, 0.3216, 0.4314, 0.5176],\n",
       "          [0.4510, 0.3843, 0.2824, 0.4078, 0.3373, 0.2784, 0.6196, 0.5843],\n",
       "          [0.4627, 0.4078, 0.3059, 0.3294, 0.3255, 0.4078, 0.6510, 0.5882],\n",
       "          [0.4667, 0.4431, 0.3922, 0.3216, 0.3490, 0.4471, 0.6431, 0.5843],\n",
       "          [0.4745, 0.4588, 0.3137, 0.1961, 0.1647, 0.2078, 0.4549, 0.4941],\n",
       "          [0.4549, 0.3176, 0.2627, 0.2196, 0.1922, 0.0471, 0.0588, 0.1020],\n",
       "          [0.3608, 0.0863, 0.1725, 0.2667, 0.0784, 0.0353, 0.0392, 0.0431]],\n",
       " \n",
       "         [[0.4392, 0.4353, 0.5647, 0.4588, 0.2471, 0.2745, 0.2902, 0.4667],\n",
       "          [0.4431, 0.4314, 0.3647, 0.2588, 0.2000, 0.3216, 0.4314, 0.5176],\n",
       "          [0.4510, 0.3843, 0.2824, 0.4078, 0.3373, 0.2784, 0.6196, 0.5843],\n",
       "          [0.4627, 0.4078, 0.3059, 0.3294, 0.3255, 0.4078, 0.6510, 0.5882],\n",
       "          [0.4667, 0.4431, 0.3922, 0.3216, 0.3490, 0.4471, 0.6431, 0.5843],\n",
       "          [0.4745, 0.4588, 0.3137, 0.1961, 0.1647, 0.2078, 0.4549, 0.4941],\n",
       "          [0.4549, 0.3176, 0.2627, 0.2196, 0.1922, 0.0471, 0.0588, 0.1020],\n",
       "          [0.3608, 0.0863, 0.1725, 0.2667, 0.0784, 0.0353, 0.0392, 0.0431]]]),\n",
       " tensor(0))"
      ]
     },
     "execution_count": 3,
     "metadata": {},
     "output_type": "execute_result"
    }
   ],
   "source": [
    "dataset[1]"
   ]
  },
  {
   "cell_type": "code",
   "execution_count": 4,
   "id": "c7437ba9",
   "metadata": {
    "execution": {
     "iopub.execute_input": "2025-02-08T12:28:27.496122Z",
     "iopub.status.busy": "2025-02-08T12:28:27.495686Z",
     "iopub.status.idle": "2025-02-08T12:28:27.501434Z",
     "shell.execute_reply": "2025-02-08T12:28:27.500403Z"
    },
    "papermill": {
     "duration": 0.012134,
     "end_time": "2025-02-08T12:28:27.503733",
     "exception": false,
     "start_time": "2025-02-08T12:28:27.491599",
     "status": "completed"
    },
    "tags": []
   },
   "outputs": [],
   "source": [
    "\n",
    "loss = nn.CrossEntropyLoss()\n",
    "optimizer = optim.Adam(model.parameters(), lr=0.001)"
   ]
  },
  {
   "cell_type": "code",
   "execution_count": 5,
   "id": "3da34332",
   "metadata": {
    "execution": {
     "iopub.execute_input": "2025-02-08T12:28:27.511170Z",
     "iopub.status.busy": "2025-02-08T12:28:27.510736Z",
     "iopub.status.idle": "2025-02-08T12:28:31.385350Z",
     "shell.execute_reply": "2025-02-08T12:28:31.384020Z"
    },
    "papermill": {
     "duration": 3.881116,
     "end_time": "2025-02-08T12:28:31.387865",
     "exception": false,
     "start_time": "2025-02-08T12:28:27.506749",
     "status": "completed"
    },
    "tags": []
   },
   "outputs": [
    {
     "name": "stdout",
     "output_type": "stream",
     "text": [
      "Epoch [1/20], Loss: 0.7397\n",
      "Epoch [2/20], Loss: 0.6883\n",
      "Epoch [3/20], Loss: 0.7216\n",
      "Epoch [4/20], Loss: 0.7334\n",
      "Epoch [5/20], Loss: 0.6992\n",
      "Epoch [6/20], Loss: 0.6924\n",
      "Epoch [7/20], Loss: 0.6886\n",
      "Epoch [8/20], Loss: 0.6892\n",
      "Epoch [9/20], Loss: 0.6867\n",
      "Epoch [10/20], Loss: 0.6984\n",
      "Epoch [11/20], Loss: 0.6916\n",
      "Epoch [12/20], Loss: 0.6614\n",
      "Epoch [13/20], Loss: 0.6933\n",
      "Epoch [14/20], Loss: 0.6812\n",
      "Epoch [15/20], Loss: 0.8304\n",
      "Epoch [16/20], Loss: 0.6978\n",
      "Epoch [17/20], Loss: 0.7698\n",
      "Epoch [18/20], Loss: 0.6669\n",
      "Epoch [19/20], Loss: 1.1512\n",
      "Epoch [20/20], Loss: 0.7605\n"
     ]
    }
   ],
   "source": [
    "num_epochs = 20\n",
    "for epoch in range(num_epochs):\n",
    "    for images, labels in train_loader:\n",
    "        optimizer.zero_grad()\n",
    "        outputs = model(images)\n",
    "        err = loss(outputs, labels)\n",
    "        err.backward()\n",
    "        optimizer.step()\n",
    "    if epoch%1 == 0:\n",
    "        print(f'Epoch [{epoch+1}/{num_epochs}], Loss: {err.item():.4f}')"
   ]
  },
  {
   "cell_type": "code",
   "execution_count": 6,
   "id": "ec43be6d",
   "metadata": {
    "execution": {
     "iopub.execute_input": "2025-02-08T12:28:31.396525Z",
     "iopub.status.busy": "2025-02-08T12:28:31.396128Z",
     "iopub.status.idle": "2025-02-08T12:28:31.412578Z",
     "shell.execute_reply": "2025-02-08T12:28:31.411031Z"
    },
    "papermill": {
     "duration": 0.023807,
     "end_time": "2025-02-08T12:28:31.415168",
     "exception": false,
     "start_time": "2025-02-08T12:28:31.391361",
     "status": "completed"
    },
    "tags": []
   },
   "outputs": [
    {
     "data": {
      "image/jpeg": "[encoded data removed]",
      "image/png": "[encoded data removed]",
      "text/plain": [
       "<PIL.PngImagePlugin.PngImageFile image mode=RGB size=100x100>"
      ]
     },
     "execution_count": 6,
     "metadata": {},
     "output_type": "execute_result"
    }
   ],
   "source": [
    "model.eval()\n",
    "from PIL import Image\n",
    "image_path = '/kaggle/input/biggest-genderface-recognition-dataset/faces/man/man_1000.jpg'\n",
    "image = Image.open(image_path)\n",
    "image"
   ]
  },
  {
   "cell_type": "code",
   "execution_count": 7,
   "id": "58630157",
   "metadata": {
    "execution": {
     "iopub.execute_input": "2025-02-08T12:28:31.425562Z",
     "iopub.status.busy": "2025-02-08T12:28:31.425165Z",
     "iopub.status.idle": "2025-02-08T12:28:31.447039Z",
     "shell.execute_reply": "2025-02-08T12:28:31.445705Z"
    },
    "papermill": {
     "duration": 0.029595,
     "end_time": "2025-02-08T12:28:31.449393",
     "exception": false,
     "start_time": "2025-02-08T12:28:31.419798",
     "status": "completed"
    },
    "tags": []
   },
   "outputs": [
    {
     "name": "stdout",
     "output_type": "stream",
     "text": [
      "Predicted class: men\n"
     ]
    }
   ],
   "source": [
    "image = transform(image).unsqueeze(0)\n",
    "\n",
    "\n",
    "with torch.no_grad():\n",
    "    output = model(image)\n",
    "\n",
    "_, predicted_class = torch.max(output, 1)\n",
    "dictt = {\n",
    "    0: \"men\",\n",
    "    1: \"women\",\n",
    "    \n",
    "}\n",
    "print(f'Predicted class: {dictt[predicted_class.item()]}')"
   ]
  }
 ],
 "metadata": {
  "kaggle": {
   "accelerator": "none",
   "dataSources": [
    {
     "datasetId": 1498843,
     "sourceId": 2476655,
     "sourceType": "datasetVersion"
    }
   ],
   "dockerImageVersionId": 30804,
   "isGpuEnabled": false,
   "isInternetEnabled": true,
   "language": "python",
   "sourceType": "notebook"
  },
  "kernelspec": {
   "display_name": "Python 3",
   "language": "python",
   "name": "python3"
  },
  "language_info": {
   "codemirror_mode": {
    "name": "ipython",
    "version": 3
   },
   "file_extension": ".py",
   "mimetype": "text/x-python",
   "name": "python",
   "nbconvert_exporter": "python",
   "pygments_lexer": "ipython3",
   "version": "3.10.14"
  },
  "papermill": {
   "default_parameters": {},
   "duration": 15.163035,
   "end_time": "2025-02-08T12:28:32.578168",
   "environment_variables": {},
   "exception": null,
   "input_path": "__notebook__.ipynb",
   "output_path": "__notebook__.ipynb",
   "parameters": {},
   "start_time": "2025-02-08T12:28:17.415133",
   "version": "2.6.0"
  }
 },
 "nbformat": 4,
 "nbformat_minor": 5
}
